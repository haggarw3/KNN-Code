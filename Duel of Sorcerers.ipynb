{
 "cells": [
  {
   "cell_type": "markdown",
   "metadata": {},
   "source": [
    "# Duel of sorcerers\n",
    "\n",
    "You are witnessing an epic battle between two powerful sorcerers: Gandalf and Saruman. Each sorcerer has 10 spells of variable power in their mind and they are going to throw them one after the other. The winner of the duel will be the one who wins more of those clashes between spells. Spells are represented as a list of 10 integers whose value equals the power of the spell."
   ]
  },
  {
   "cell_type": "markdown",
   "metadata": {},
   "source": [
    "gandalf = [10, 11, 13, 30, 22, 11, 10, 33, 22, 22]\n",
    "saruman = [23, 66, 12, 43, 12, 10, 44, 23, 12, 17]"
   ]
  },
  {
   "cell_type": "markdown",
   "metadata": {},
   "source": [
    "### For example:\n",
    "The first clash is won by Saruman: 10 against 23, wins 23\n",
    "The second clash wins Saruman: 11 against 66, wins 66\n",
    "etc."
   ]
  },
  {
   "cell_type": "markdown",
   "metadata": {},
   "source": [
    "You will create two variables, one for each sorcerer, where the sum of clashes won will be stored. Depending on which variable is greater at the end of the duel, you will show one of the following three results on the screen:\n",
    "\n",
    "    Gandalf wins\n",
    "    Saruman wins\n",
    "    Tie"
   ]
  },
  {
   "cell_type": "code",
   "execution_count": 1,
   "metadata": {},
   "outputs": [],
   "source": [
    "# Assign spell power lists to variables\n",
    "gandalf = [10, 11, 13, 30, 22, 11, 10, 33, 22, 22]\n",
    "saruman = [23, 66, 12, 43, 12, 10, 44, 23, 12, 17]"
   ]
  },
  {
   "cell_type": "code",
   "execution_count": 2,
   "metadata": {},
   "outputs": [],
   "source": [
    "# Assign 0 to each variable that stores the number of victories\n",
    "wins_gandalf = 0\n",
    "wins_saruman = 0"
   ]
  },
  {
   "cell_type": "code",
   "execution_count": 3,
   "metadata": {},
   "outputs": [],
   "source": [
    "# Execution of spell clashes\n",
    "for clash in range(len(gandalf)): \n",
    "  if gandalf[clash] > saruman[clash]:\n",
    "    wins_gandalf += 1 \n",
    "    \n",
    "  elif saruman[clash] > gandalf[clash]:\n",
    "    wins_saruman += 1 "
   ]
  },
  {
   "cell_type": "code",
   "execution_count": 4,
   "metadata": {},
   "outputs": [
    {
     "name": "stdout",
     "output_type": "stream",
     "text": [
      "Winner is: Gandalf\n"
     ]
    }
   ],
   "source": [
    "if wins_gandalf > wins_saruman: \n",
    "    winner = \"Gandalf\"\n",
    "elif wins_gandalf < wins_saruman: \n",
    "    winner = \"Saruman\"\n",
    "else: \n",
    "    winner = \"Tie\"\n",
    "print(\"Winner is:\", winner)"
   ]
  },
  {
   "cell_type": "markdown",
   "metadata": {},
   "source": [
    "# Bonus\n",
    "\n",
    "Spells now have a name and there is a dictionary that relates that name to a power.\n",
    "A sorcerer wins if he succeeds in winning 3 spell clashes in a row.\n",
    "Average of each of the spell lists.\n",
    "Standard deviation of each of the spell lists."
   ]
  },
  {
   "cell_type": "code",
   "execution_count": 10,
   "metadata": {},
   "outputs": [],
   "source": [
    "POWER = {\n",
    "    'Fireball': 50, \n",
    "    'Lightning bolt': 40, \n",
    "    'Magic arrow': 10, \n",
    "    'Black Tentacles': 25, \n",
    "    'Contagion': 45\n",
    "}\n",
    "\n",
    "gandalf = ['Fireball', 'Fireball', 'Fireball', 'Magic arrow', 'Fireball', \n",
    "           'Magic arrow', 'Lightning bolt', 'Fireball', 'Magic arrow', 'Fireball']\n",
    "saruman = ['Contagion', 'Contagion', 'Black Tentacles', 'Fireball', 'Black Tentacles', \n",
    "           'Lightning bolt', 'Magic arrow', 'Contagion', 'Magic arrow', 'Magic arrow']"
   ]
  },
  {
   "cell_type": "code",
   "execution_count": 11,
   "metadata": {},
   "outputs": [],
   "source": [
    "# Assign spell power lists to variables\n",
    "\n",
    "gandalf_power = [POWER[spell_name] for spell_name in gandalf]\n",
    "saruman_power = [POWER[spell_name] for spell_name in saruman]"
   ]
  },
  {
   "cell_type": "code",
   "execution_count": 15,
   "metadata": {},
   "outputs": [
    {
     "name": "stdout",
     "output_type": "stream",
     "text": [
      "Gandalf Wins from 3 straight victories:\n",
      "The competition ended after 3 clashes\n"
     ]
    }
   ],
   "source": [
    "Total_wins_gandalf = 0\n",
    "Total_wins_saruman = 0\n",
    "counter1 = 0  # To check three consecutive victories for gandalf\n",
    "counter2 = 0  # To check three consecutive victories for saruman\n",
    "for clash in range(len(gandalf)):\n",
    "    if gandalf_power[clash] > saruman_power[clash]:\n",
    "        counter1 +=1\n",
    "        counter2 = 0 \n",
    "        Total_wins_gandalf += 1\n",
    "        if counter1 == 3:\n",
    "            print(\"Gandalf Wins from 3 straight victories:\")\n",
    "            break\n",
    "    elif gandalf_power[clash] < saruman_power[clash]:    \n",
    "        counter2 +=1\n",
    "        counter1 = 0\n",
    "        Total_wins_saruman += 1\n",
    "        if counter2 == 3:\n",
    "            print(\"Saruman Wins from 3 straight victories:\")\n",
    "            break\n",
    "    else:\n",
    "        counter1 = 0\n",
    "        counter2 = 0\n",
    "if counter1 == 3:\n",
    "    print(\"The competition ended after\",clash+1,\"clashes\")\n",
    "else:\n",
    "    if Total_wins_gandalf > Total_wins_saruman:\n",
    "        print(\"Gandalf Wins:\")\n",
    "    elif Total_wins_gandalf < Total_wins_saruman:\n",
    "        print(\"Saruman Wins:\")\n",
    "    else:\n",
    "        print(\"Tie\")        "
   ]
  },
  {
   "cell_type": "code",
   "execution_count": 8,
   "metadata": {},
   "outputs": [
    {
     "name": "stdout",
     "output_type": "stream",
     "text": [
      "Gandalf's average power is :35.00\n",
      "Saruman's average power is :30.50\n"
     ]
    }
   ],
   "source": [
    "gandalf_avg =  sum(gandalf_power)/len(gandalf_power) \n",
    "saruman_avg =  sum(saruman_power)/len(saruman_power) \n",
    "print(\"Gandalf's average power is :{:2.2f}\".format(gandalf_avg)) \n",
    "print(\"Saruman's average power is :{:2.2f}\".format(saruman_avg)) "
   ]
  },
  {
   "cell_type": "code",
   "execution_count": 9,
   "metadata": {},
   "outputs": [
    {
     "name": "stdout",
     "output_type": "stream",
     "text": [
      "Gandalf's average power is :16.88\n",
      "Saruman's average power is :15.56\n"
     ]
    }
   ],
   "source": [
    "import statistics \n",
    "gandalf_std =  statistics.pstdev(gandalf_power)\n",
    "saruman_std =  statistics.pstdev(saruman_power)\n",
    "print(\"Gandalf's average power is :{:2.2f}\".format(gandalf_std)) \n",
    "print(\"Saruman's average power is :{:2.2f}\".format(saruman_std)) "
   ]
  }
 ],
 "metadata": {
  "kernelspec": {
   "display_name": "Python 3",
   "language": "python",
   "name": "python3"
  },
  "language_info": {
   "codemirror_mode": {
    "name": "ipython",
    "version": 3
   },
   "file_extension": ".py",
   "mimetype": "text/x-python",
   "name": "python",
   "nbconvert_exporter": "python",
   "pygments_lexer": "ipython3",
   "version": "3.6.8"
  }
 },
 "nbformat": 4,
 "nbformat_minor": 2
}
